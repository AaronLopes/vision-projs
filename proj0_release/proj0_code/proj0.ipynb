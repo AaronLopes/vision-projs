{
 "cells": [
  {
   "cell_type": "markdown",
   "metadata": {},
   "source": [
    "\n",
    "# Project 0 - Pytorch for linear algebra\n",
    "\n",
    "## Brief\n",
    "* Due:\n",
    "  * 09/03/2021 11:59PM\n",
    "\n",
    "* Hand-in: through [Gradescope](https://www.gradescope.com)\n",
    "* Required files:\n",
    "  * `<your_gt_username>.zip` on Gradescope\n",
    "  * `<yout_gt_username>.pdf` on Gradescope\n",
    "\n",
    "\n",
    "## Overview\n",
    "\n",
    "Through the projects of this course we will be working with a similar pipeline for you to program, test and submit your work. The main goal of project 0 is for you to familiarize with this workflow. By the end of this project you should be able to:\n",
    "* To setup a conda environment (see `README.md`)\n",
    "* Understand how to start the jupyter notebook (see `README.md`)\n",
    "* Complete the functions requested from you\n",
    "* Remember how to work with vector and matrices and basic operations in python and using pytorch\n",
    "* Test your code using unit tests inside the notebook and standalone with pytest\n",
    "* Create a submission file for the code\n",
    "* Use gradescope to submit your work\n",
    "\n",
    "Through out the project, you will follow this Jupyter notebook, which will guide you through general knownledge, to the code you have to write in the **`proj0_code/student_code.py`** file and test against the unit tests that can be found in **`proj0_unit_tests\\test_student_code.py`**.\n",
    "\n",
    "**Note**: you can run unit tests from this notebook as you go along completing each function. You can also use the ```pytest``` command from the terminal to run all the tests. It is recommended to run all the tests from the terminal before making the final submission\n",
    "\n"
   ]
  },
  {
   "cell_type": "markdown",
   "metadata": {},
   "source": [
    "## Introduction to Jupyter Notebook\n",
    "\n",
    "A jupyter notebook file is structured as executable cells. Each cell can be executed independently by clicking the `Run` cell icon or `Ctrl+Enter`. \n",
    "\n",
    "As you go through the notebook, you will encounter **TODO** tasks, which let you know that for the following cell, you will have to complete a specific function. You can find all functions that you have to write in the `proj0_code/student_code.py` file. To test if the function works, you will have to restart the Kernel of the jupyter notebook (Found in Kernel -> Restart) and then reload the page. "
   ]
  },
  {
   "cell_type": "markdown",
   "metadata": {},
   "source": [
    "## Imports\n",
    "\n",
    "**Please pay close attention to the packages, libraries, and methods that we will import into this notebook in the following cell.**\n",
    "\n",
    "Each of these imports plays a unique and important role throughout this project. If you are confused about where a particular function call can be found, please resort back to this section. More will be explained about these imports throughout this notebook."
   ]
  },
  {
   "cell_type": "code",
   "execution_count": null,
   "metadata": {
    "pycharm": {
     "is_executing": true
    }
   },
   "outputs": [],
   "source": [
    "import os\n",
    "\n",
    "import torch\n",
    "import torchvision.datasets\n",
    "import torchvision.transforms\n",
    "from torchvision.utils import save_image\n",
    "import matplotlib.pyplot as plt\n",
    "\n",
    "import proj0_code.student_code as student_code\n",
    "import proj0_code.utils as utils\n",
    "\n",
    "import proj0_unit_tests.test_student_code as test_student_code"
   ]
  },
  {
   "cell_type": "code",
   "execution_count": null,
   "metadata": {},
   "outputs": [],
   "source": [
    "%load_ext autoreload\n",
    "\n",
    "%autoreload 2\n",
    "\n",
    "%matplotlib inline"
   ]
  },
  {
   "cell_type": "markdown",
   "metadata": {},
   "source": [
    "## Section 1: Introduction to Vectors and Matrices\n",
    "\n",
    "Here we will go over the basics of vectors and matrices, how are they defined in Pytorch, and what operation we can apply to them.\n",
    "\n",
    "### Section 1.a: Defining vectors and Matrices\n",
    "\n",
    "In general, we will use Pytorch throughout this course, which use [Tensors](https://mathworld.wolfram.com/Tensor.html) to define elements. They are defined as a multi-dimensional matrix containing elements of a single data type. \n",
    "\n",
    "\n",
    "For example, if we want to create a row vector $v_1 = [1, 2, -3]$ we can "
   ]
  },
  {
   "cell_type": "code",
   "execution_count": null,
   "metadata": {},
   "outputs": [],
   "source": [
    "v1 = torch.tensor([1., 2., -3.])\n",
    "print(\"v1: \", v1)\n",
    "print(\"v1 size: \", v1.size())\n",
    "print(\"v1 type: \", v1.type())"
   ]
  },
  {
   "cell_type": "markdown",
   "metadata": {},
   "source": [
    "Note that the size is $[3]$, which means that the defined tensor is a 1-dimensional ***row-vector***, and defined as a Float Tensor.\n",
    "\n",
    "We can also create a column vector $v_2 = [2, 4, 6]^T$ as"
   ]
  },
  {
   "cell_type": "code",
   "execution_count": null,
   "metadata": {},
   "outputs": [],
   "source": [
    "v2 = torch.tensor([[2.], [4.], [6.]])\n",
    "print(\"v2: \", v2)\n",
    "print(\"v2 size: \", v2.size())\n",
    "print(\"v2 type: \", v2.type())"
   ]
  },
  {
   "cell_type": "markdown",
   "metadata": {},
   "source": [
    "Note that $v_2$ is a vector with dimensions $3\\times1$, which means that the defined tensor is a 1-dimensional ***column-vector***, and defined as a Float Tensor.\n",
    "\n",
    "Similarly, we can create a matrix $M_1$ as defined as: $$M_1 = \\begin{bmatrix}1&2&3\\\\-1&-2&0\\end{bmatrix}$$"
   ]
  },
  {
   "cell_type": "code",
   "execution_count": null,
   "metadata": {},
   "outputs": [],
   "source": [
    "M1 = torch.tensor([[1., 2., 3.], [-1, -2, 0]])\n",
    "print(\"M1: \", M1)\n",
    "print(\"M1 size: \", M1.size())\n",
    "print(\"M1 type: \", M1.type())"
   ]
  },
  {
   "cell_type": "markdown",
   "metadata": {},
   "source": [
    "Notice that matrix $M_1$ has dimensions $2 \\times 3$."
   ]
  },
  {
   "cell_type": "markdown",
   "metadata": {},
   "source": [
    "### Section 1.b Scalar Multiplications\n",
    "\n",
    "Now that we have vectors $v_1$ and $v_2$ and matrix $M_1$, we can make some operations onto them. \n",
    "\n",
    "For instance, we can multiply them by a scalar. Let's try calculating: $$2 \\cdot v_1$$$$0.3 \\cdot M_1$$"
   ]
  },
  {
   "cell_type": "code",
   "execution_count": null,
   "metadata": {},
   "outputs": [],
   "source": [
    "print(v1*2)\n",
    "print(M1*0.3)"
   ]
  },
  {
   "cell_type": "markdown",
   "metadata": {},
   "source": [
    "### Section 1.c Tensor Multiplication\n",
    "\n",
    "We can also multiply a matrix by a vector. Always considering that the matrix and vector dimensions are consistent. We can do $M_1 \\cdot v_2$ by using `torch.mm` (matrix multiplication). \n",
    "\n",
    "With matrix multiplication, we take a tensor of dimension $m \\times p$, multiply it with a tensor of dimension $p \\times n$, and will get a tensor with dimension $m \\times n$.\n",
    "\n",
    "If we calculate $M_1 \\cdot v_2$, we are multiplying a $2\\times3$ tensor with a $3\\times1$ tensor. Thus, the resulting tensor will be a tensor of dimension $2\\times1$."
   ]
  },
  {
   "cell_type": "code",
   "execution_count": null,
   "metadata": {},
   "outputs": [],
   "source": [
    "print(M1.mm(v2))\n",
    "print(M1.mm(v2).size())"
   ]
  },
  {
   "cell_type": "markdown",
   "metadata": {},
   "source": [
    "Now, try to multiply $M_1$ with $v_1$. We should get an `RuntimeError` due to dimensions mismatch because $v_1$ is not the proper size for matrix multiplication.\n",
    "\n",
    "*To attempt this, uncomment out the line in the cell below before you run it. After you see the error, be sure to comment the line back out again by placing a `#` in front before you proceed so it doesn't affect the grader.*"
   ]
  },
  {
   "cell_type": "code",
   "execution_count": null,
   "metadata": {},
   "outputs": [],
   "source": [
    "# print(M1.mm(v1))"
   ]
  },
  {
   "cell_type": "markdown",
   "metadata": {},
   "source": [
    "An error is expected because, here, we are attempting to multiply a $2\\times 3$ tensor with a tensor of size $3$. \n",
    "\n",
    "For this matrix multiplication to work out successfully, $v_1$ will have to be of size $3\\times 1$.\n",
    "\n",
    "But we also can use the normal multiplication $*$ which will execute a elementwise multiplication. As before, if we do $M_1*2$, it multiplies each element by the constant. However, if we do $M_1*v_1$, it will multiply each element of the matrix by the correspondant element of the vector."
   ]
  },
  {
   "cell_type": "code",
   "execution_count": null,
   "metadata": {},
   "outputs": [],
   "source": [
    "print(\"M1 =\", M1)\n",
    "print(\"v1 =\", v1)\n",
    "print(\"M1*v1 =\", M1*v1)"
   ]
  },
  {
   "cell_type": "markdown",
   "metadata": {},
   "source": [
    "We encourage you to see how you can perform different use of the multiplication $*,$ using a matrix and a column vector or another matrix.\n",
    "\n",
    "You can also return a specific element of the tensor. Keep in mind that the first element of the tensor is in the 0th position, the second element of the tensor is in the 1st position, the third element of the tensor is in the 2nd position, and so on.\n",
    "\n",
    "Recall the matrix $M_1$ which has $2$ rows and $3$ columns. If we want the singular element from the second row and third column, we want the element at matrix position $[1,2]$."
   ]
  },
  {
   "cell_type": "code",
   "execution_count": null,
   "metadata": {},
   "outputs": [],
   "source": [
    "print(\"M1: \", M1)\n",
    "print(\"Element in 2nd row and 3rd column: \", M1[1,2])"
   ]
  },
  {
   "cell_type": "markdown",
   "metadata": {},
   "source": [
    "### Section 1.c Transpose Operation\n",
    "\n",
    "The first code that you will have to implement is to **transpose** a row-vector, into a column-vector.\n",
    "\n",
    "**TODO: Write the function ```vector_transpose(v)``` found in `proj0_code/student_code.py`. Save `proj0_code/student_code.py`, and return to this jupyter notebook to run the following cell.**"
   ]
  },
  {
   "cell_type": "code",
   "execution_count": null,
   "metadata": {},
   "outputs": [],
   "source": [
    "v_t = student_code.vector_transpose(v1)\n",
    "\n",
    "print(\"v1: \", v1)\n",
    "print(\"v1 size: \", v1.size())\n",
    "print(\"v_t: \", v_t)\n",
    "print(\"v_t size: \", v_t.size())"
   ]
  },
  {
   "cell_type": "markdown",
   "metadata": {},
   "source": [
    "Does the print output look correct? \n",
    "\n",
    "We encouraged you to try some more manual inputs and check the results."
   ]
  },
  {
   "cell_type": "markdown",
   "metadata": {},
   "source": [
    "### Unit Tests\n",
    "In this course, we will heavily rely on unit-testing to help students be confident with their submissions, and to help TAs in grading. For all projects, we will supply some unit-tests to the students, and some unit-tests will be held-back and executed on gradescope. All public unit-tests for this project can be found in `proj0_unit_tests/test_student_code.py`.\n",
    "\n",
    "In the next cell, we will run the unit-test for the ```vector_transpose``` function. If the test is successful, proceed to the further sections. Otherwise, take another look at your implementation and try to fix it so it passes the test successfully."
   ]
  },
  {
   "cell_type": "code",
   "execution_count": null,
   "metadata": {},
   "outputs": [],
   "source": [
    "print(\"test_vector_transpose(): \" + test_student_code.verify(test_student_code.test_vector_transpose))"
   ]
  },
  {
   "cell_type": "markdown",
   "metadata": {},
   "source": [
    "### Section 1.d Matrix Inverse\n",
    "\n",
    "As a final element, we will look at the **inverse** of a matrix. \n",
    "\n",
    "We will define a square matrix $A$ which is non-singular (all the columns are linearly independent).\n",
    "\n",
    "The inverse of $A$, commonly written as $A^{-1}$, is a square matrix such that $A \\cdot A^{-1}$ is the identity matrix, $I$."
   ]
  },
  {
   "cell_type": "code",
   "execution_count": null,
   "metadata": {},
   "outputs": [],
   "source": [
    "A = torch.tensor([[1., 2., 1.],[1., 2., 0.], [-1., 2., 0.]])\n",
    "print('A =', A)\n",
    "\n",
    "A_inv = torch.inverse(A)\n",
    "print('A^-1 = ', A_inv)"
   ]
  },
  {
   "cell_type": "code",
   "execution_count": null,
   "metadata": {},
   "outputs": [],
   "source": [
    "print('Multiplication of a matrix with its inverse: ')\n",
    "print(A.mm(A_inv))"
   ]
  },
  {
   "cell_type": "markdown",
   "metadata": {},
   "source": [
    "## Section 2: Working with images\n",
    "\n",
    "In the following section, we will start working with images, learning how to manipulate them and perform basic image operations. \n",
    "\n",
    "First, we will load a set of images that can be found in the `proj0_code/imgs` folder. For this project, we will work on a Mount Rushmore image. \n",
    "\n",
    "Note: An image is a matrix of size $(M\\times N\\times 3)$. These dimensions correspond to the images width in pixels, height in pixels, and 3 layers corresponding to the red, green and blue values, respectively.\n",
    "\n",
    "For simple data retrieval, we will create a `list` of images using the images in the `proj0_code/imgs` folder."
   ]
  },
  {
   "cell_type": "code",
   "execution_count": null,
   "metadata": {},
   "outputs": [],
   "source": [
    "images = [] # instantiating our list \n",
    "images.append(utils.load_image(os.path.join('imgs', 'fish.jpeg'))) # complete image containing red, green, and blu components\n",
    "images.append(utils.load_image(os.path.join('imgs', 'fish_R.png'))) # only red component of image\n",
    "images.append(utils.load_image(os.path.join('imgs', 'fish_G.png'))) # only green component of image\n",
    "images.append(utils.load_image(os.path.join('imgs', 'fish_B.png'))) # only blue component of image"
   ]
  },
  {
   "cell_type": "markdown",
   "metadata": {},
   "source": [
    "We can verify that we have indeed created a list of by print the type of `images`."
   ]
  },
  {
   "cell_type": "code",
   "execution_count": null,
   "metadata": {},
   "outputs": [],
   "source": [
    "print(type(images))"
   ]
  },
  {
   "cell_type": "markdown",
   "metadata": {},
   "source": [
    "In this case, we have 4 images. Look closely over the next cell to understand how we get an image's type, size, and display the image using `matplotlib.pyplot`."
   ]
  },
  {
   "cell_type": "code",
   "execution_count": null,
   "metadata": {},
   "outputs": [],
   "source": [
    "print(\"Type for the list's first image element: \", type(images[0]))\n",
    "print(\"Size of the first image in list: \", images[0].size())\n",
    "print(\"The first image in list: \")\n",
    "\n",
    "fig = plt.imshow(images[0])\n",
    "fig.axes.get_xaxis().set_visible(False)\n",
    "fig.axes.get_yaxis().set_visible(False)"
   ]
  },
  {
   "cell_type": "markdown",
   "metadata": {},
   "source": [
    "Notice that the image has a size of $[591, 910, 3]$.\n",
    "\n",
    "This means that the size of each layer in the image has a size of $[591, 910]$. \n",
    "\n",
    "To access these layers individually, we can call `im[:,:,#]` where `#` is 0, 1, or 2, corresponding to the red, green, and blue layers, respectively."
   ]
  },
  {
   "cell_type": "code",
   "execution_count": null,
   "metadata": {},
   "outputs": [],
   "source": [
    "im = images[0]\n",
    "print(\"Size of first (red) layer in image: \", im[:,:,0].size())\n",
    "\n",
    "print(\"Red component of image: \")\n",
    "fig = plt.imshow(im[:,:,0])\n",
    "fig.axes.get_xaxis().set_visible(False)\n",
    "fig.axes.get_yaxis().set_visible(False)"
   ]
  },
  {
   "cell_type": "markdown",
   "metadata": {},
   "source": [
    "Contrary to popular belief, the red component of the image does not appear in red when displayed separately from the other component. Such can be said for the blue and green components when displayed individually as well."
   ]
  },
  {
   "cell_type": "code",
   "execution_count": null,
   "metadata": {},
   "outputs": [],
   "source": [
    "print(\"Size of second (green) layer in image: \", im[:,:,1].size())\n",
    "\n",
    "print(\"Green component of image: \")\n",
    "fig = plt.imshow(im[:,:,1])\n",
    "fig.axes.get_xaxis().set_visible(False)\n",
    "fig.axes.get_yaxis().set_visible(False)"
   ]
  },
  {
   "cell_type": "code",
   "execution_count": null,
   "metadata": {},
   "outputs": [],
   "source": [
    "print(\"Size of third (blue) layer in image: \", im[:,:,2].size())\n",
    "\n",
    "print(\"Blue component of image: \")\n",
    "fig = plt.imshow(im[:,:,2])\n",
    "fig.axes.get_xaxis().set_visible(False)\n",
    "fig.axes.get_yaxis().set_visible(False)"
   ]
  },
  {
   "cell_type": "markdown",
   "metadata": {},
   "source": [
    "### Section 2.a Cropping Images\n",
    "\n",
    "We can also crop the image using a special indexing (also known as **slicing**) of the rows and columns. Please play around with the numerical values in the following cell to better understand the various ways you can crop an image."
   ]
  },
  {
   "cell_type": "code",
   "execution_count": null,
   "metadata": {},
   "outputs": [],
   "source": [
    "cropped_image = im[300:400, 100:300, :]\n",
    "\n",
    "print(\"Size of cropped image: \", cropped_image.size())\n",
    "\n",
    "print(\"Cropped Image: \")\n",
    "fig = plt.imshow(cropped_image)\n",
    "fig.axes.get_xaxis().set_visible(False)\n",
    "fig.axes.get_yaxis().set_visible(False)"
   ]
  },
  {
   "cell_type": "markdown",
   "metadata": {},
   "source": [
    "### Section 2b: Stacking gray images to form color images\n",
    "\n",
    "The images at index 1, 2 and 3 in the `images` list are grey-scale images of the R, G, and B channels of the original image. \n",
    "\n",
    "They are each $M \\times N \\times 3$ in size. However, for each image, the 3 layers that make up that image have the same values (and hence they are grey-scale). Thus, we want to take one layer from each image and create a new image $M \\times N \\times 3$.\n",
    "\n",
    "We are going to show that if you stack the one layer from each of these grey-scales images, you will get a $M \\times N \\times 3$ image that looks identical to the original 3-layers colored image.\n",
    "\n",
    "**TODO: Write the function ```stack_images()``` found in `proj0_code/student_code.py`. Once you have written the function, save `proj0_code/student_code.py` and return to this jupyter notebook to run the following cell.**"
   ]
  },
  {
   "cell_type": "code",
   "execution_count": null,
   "metadata": {
    "pycharm": {
     "is_executing": true
    }
   },
   "outputs": [],
   "source": [
    "D = student_code.stack_images(images[1][:,:,0], images[2][:,:,0], images[3][:,:,0])\n",
    "\n",
    "fig = plt.imshow(D)\n",
    "\n",
    "fig.axes.get_xaxis().set_visible(False)\n",
    "fig.axes.get_yaxis().set_visible(False)\n",
    "\n",
    "print(\"test_stack_images(): \" + test_student_code.verify(test_student_code.test_stack_images))"
   ]
  },
  {
   "cell_type": "markdown",
   "metadata": {},
   "source": [
    "### Section 2c: Concatenation of images\n",
    "\n",
    "Now that we have a colored image, we want to create a 2x2 block from the same image by repeatedly concatenating the image like this:\n",
    "\n",
    "<img src=\"imgs/4fish.png\" width=\"300\">\n",
    "\n",
    "**TODO: Write the function ```concat_images()``` found in `proj0_code/student_code.py`. Once you have written the function, save `proj0_code/student_code.py` and return to this jupyter notebook to run the following cell.**"
   ]
  },
  {
   "cell_type": "code",
   "execution_count": null,
   "metadata": {
    "pycharm": {
     "is_executing": true
    }
   },
   "outputs": [],
   "source": [
    "D1 = student_code.concat_images(D)\n",
    "\n",
    "fig = plt.imshow(D1)\n",
    "fig.axes.get_xaxis().set_visible(False)\n",
    "fig.axes.get_yaxis().set_visible(False)\n",
    "\n",
    "print(\"test_concat_images(): \" + test_student_code.verify(test_student_code.test_concat_images))"
   ]
  },
  {
   "cell_type": "markdown",
   "metadata": {},
   "source": [
    "# Section 3: Point Operations\n",
    "\n",
    "For the final part, we will introduce **masks**. When working on an image, we would like to perform some operation over certain pixel of the image. \n",
    "\n",
    "For example, we would like to remove the water in the image. Thus, we need to identify which pixels are part of the water.\n",
    "\n",
    "We can create a matrix of equal size as the image $M \\times N$ and assign a 1 or a 0 depending on a certain condition, resulting in a binary matrix of 1s and 0s is called a **mask**. \n",
    "\n",
    "**TODO: Write the function ```create_mask(X, val)``` found in `proj0_code/student_code.py` which takes a single layer of an image and a threshold value `val` and creates a mask of the values that are less than or equal to `val`. Once you have written the function, save `proj0_code/student_code.py` and return to this jupyter notebook to run the following cell.**"
   ]
  },
  {
   "cell_type": "code",
   "execution_count": null,
   "metadata": {},
   "outputs": [],
   "source": [
    "mask = student_code.create_mask(images[0][:,:,0], 0.04)\n",
    "\n",
    "plt.imshow(student_code.stack_images(mask,mask,mask)*255)\n",
    "fig.axes.get_xaxis().set_visible(False)\n",
    "fig.axes.get_yaxis().set_visible(False)\n",
    "\n",
    "print(\"test_create_mask(): \" + test_student_code.verify(test_student_code.test_create_mask))"
   ]
  },
  {
   "cell_type": "markdown",
   "metadata": {},
   "source": [
    "We are doing a simple threshold, which find most of the pixels that belong to the water; but, it also finds some pixel around the image. For this project we won't mind about those pixels.\n",
    "\n",
    "Once we have the mask, we can use it to modify the respective pixel of the original image. For example, we can increase the values for the water pixels in the image. "
   ]
  },
  {
   "cell_type": "code",
   "execution_count": null,
   "metadata": {},
   "outputs": [],
   "source": [
    "D2 = D.clone() # makes copy of image\n",
    "D2[:,:,0] = D2[:,:,0] + mask.type(torch.FloatTensor)*0.9\n",
    "\n",
    "fig = plt.imshow(D2)\n",
    "fig.axes.get_xaxis().set_visible(False)\n",
    "fig.axes.get_yaxis().set_visible(False)"
   ]
  },
  {
   "cell_type": "markdown",
   "metadata": {},
   "source": [
    "# Code Testing\n",
    "\n",
    "Congrats, you have completed all the portions of this starter project. It is recommended to run all the unit tests using ```pytest``` command from the terminal before. To do this: \n",
    "\n",
    "* open the terminal and go to the directory `../proj0_code/`\n",
    "* activate your `proj0` environment\n",
    "* run the command `pytest proj0_unit_tests/`\n",
    "* On the terminal, you should see a green dot (.) for each unit test passed and an error message for each unit test failed. Or, you could see the number of tests you have passed, the number or warnings you have, and/or the number of tests you have failed. If you pass all of the tests, it won't show any failures. That is what you want! Showing a few warnings is fine so long as all of the tests are passed. If you fail some of the tests, please return back to the functions associated with the failed tests and fix them so that they pass the test.\n",
    "\n",
    "\n",
    "# Writeup\n",
    "\n",
    "For this project (and all other projects), you must do a project report using the template slides provided to you at `proj0_template.pptx`. Do <u>not</u> change the order of the slides or remove any slides, as this will affect the grading process on Gradescope and you will be deducted points. You must convert the slide deck into a PDF with the name `<your_gt_username.pdf>` for your submission.\n",
    "\n",
    "# Rubric\n",
    "\n",
    "* +20 pts: Code\n",
    "* +10 pts: PDF report\n",
    "* -2\\*n pts: Lose 2 points for every time you do not follow the instructions for the hand-in format.\n",
    "\n",
    "\n",
    "# Submission\n",
    "\n",
    "This is very important as you will lose 2 points for every time you do not follow the instructions. \n",
    "\n",
    "Create the zip file using `python zip_submission.py --gt_username <your_gt_username>` (it will zip up the appropriate directories/files for you!). You will have two submission files for this project:\n",
    "\n",
    "1. `<your_gt_username>.zip` via **Gradescope** to 'assigment Project 0 - Code'\n",
    "2. `<your_gt_username>.pdf` via **Gradescope** to 'assignment Project 0 - Report'\n",
    "\n",
    "Do <u>not</u> install any additional packages inside the conda environment. The TAs will use the same environment as defined in the config files we provide you, so anything that's not in there by default will probably cause your code to break during grading. Do <u>not</u> use absolute paths in your code or your code will break. Use relative paths like the starter code already does. Failure to follow any of these instructions will lead to point deductions. \n",
    "\n",
    "# Credit\n",
    "Assignment developed by Heyley Gatewood, Sergio Aguilera, Arvind Krishnakumar, Ayush Baid, Sen Wang and Frank Dellaert."
   ]
  },
  {
   "cell_type": "markdown",
   "metadata": {},
   "source": []
  }
 ],
 "metadata": {
  "kernelspec": {
   "display_name": "Python 3",
   "language": "python",
   "name": "python3"
  },
  "language_info": {
   "codemirror_mode": {
    "name": "ipython",
    "version": 3
   },
   "file_extension": ".py",
   "mimetype": "text/x-python",
   "name": "python",
   "nbconvert_exporter": "python",
   "pygments_lexer": "ipython3",
   "version": "3.7.11"
  },
  "pycharm": {
   "stem_cell": {
    "cell_type": "raw",
    "metadata": {
     "collapsed": false
    },
    "source": []
   }
  },
  "widgets": {
   "state": {},
   "version": "1.1.2"
  }
 },
 "nbformat": 4,
 "nbformat_minor": 2
}
