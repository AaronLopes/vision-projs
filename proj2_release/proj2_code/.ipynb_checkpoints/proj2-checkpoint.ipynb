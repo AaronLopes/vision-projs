{
 "cells": [
  {
   "cell_type": "markdown",
   "id": "c570f050",
   "metadata": {},
   "source": [
    "# CS x476 - Fall 2021\n",
    "# Project 2: Segmentation with CNN\n",
    "\n",
    "## Brief\n",
    "* Due: Wednesday, 10/06/2021, 11:59PM\n",
    "\n",
    "* Hand-in: through Gradescope\n",
    "* Required files:\n",
    "  * `<your_gt_username>.zip`\n",
    "  * `<yout_gt_username>.pdf`\n",
    "  \n",
    "All projects in this course will be done with these jupyter notebooks. These are convenient ways for you to easily interact with your code. A notebook contains many blocks of code, each of which can be run independently.\n",
    "\n",
    "There are multiple ways that you can run a cell:\n",
    "1. Run the current cell, and stay in the current cell\n",
    "  * `ctrl+enter` on Windows and Linux\n",
    "  * `cmd+enter` on MacOS\n",
    "2. Run the current cell, move to the next cell:\n",
    "  * `shift+enter`\n",
    "  * click the \"Run\" button in the tool bar\n"
   ]
  },
  {
   "cell_type": "markdown",
   "id": "7962f4cb",
   "metadata": {},
   "source": [
    "For this project we are going to focus on semantic image segmentation with a state-of-the-art approach: deep learning.\n",
    "\n",
    "Basic learning objectives of this project:\n",
    "\n",
    "- Basic segmentation\n",
    "    - Understanding the goal of image segmentation.\n",
    "    - Understanding sigmoid and softmax functions.\n",
    "    - Applying segmentation masks to images.\n",
    "\n",
    "- Architechture of segmentation model\n",
    "    - Understanding Fully Convolutional Networks and its backbones (VGG-19 and ResNet-50)\n",
    "    - Looking into feature maps generated at different parts of the network.\n",
    "\n",
    "- Model performance\n",
    "    - Understanding performance metrics like IoU.\n",
    "    - Comparing performance for two different models\n",
    "    \n",
    "- Extra Credit\n",
    "    - Understanding Pyramid Scene Parsing Network (PSPNet)\n",
    "    - Comparing PSPNet andn FCN models. "
   ]
  },
  {
   "cell_type": "markdown",
   "id": "2fe60e78",
   "metadata": {},
   "source": [
    "## Setup"
   ]
  },
  {
   "cell_type": "code",
   "execution_count": null,
   "id": "8b6b64e7",
   "metadata": {},
   "outputs": [],
   "source": [
    "import os\n",
    "import math\n",
    "\n",
    "import torch\n",
    "import numpy as np\n",
    "import matplotlib.pyplot as plt\n",
    "\n",
    "from PIL import Image\n",
    "from typing import List"
   ]
  },
  {
   "cell_type": "code",
   "execution_count": null,
   "id": "b715adb5",
   "metadata": {},
   "outputs": [],
   "source": [
    "# If you use Colab, please run this cell in Colab\n",
    "# Otherwise, you can ignore this cell\n",
    "\n",
    "# # First install these libs then run the following cells\n",
    "# !pip install segmentation-models-pytorch\n",
    "# !pip install -U git+https://github.com/albu/albumentations --no-cache-dir\n",
    "# !pip install torchinfo\n",
    "\n",
    "# # Then unzip the zip file using code below\n",
    "# !unzip <folder_name>.zip"
   ]
  },
  {
   "cell_type": "code",
   "execution_count": null,
   "id": "2d8e9966",
   "metadata": {},
   "outputs": [],
   "source": [
    "# If you are using colab, you will need to run the above cell before run this cell\n",
    "\n",
    "import albumentations\n",
    "import segmentation_models_pytorch as smp\n",
    "\n",
    "import student_code as student_code\n",
    "import utils as utils\n",
    "\n",
    "%matplotlib inline\n",
    "%load_ext autoreload\n",
    "%autoreload 2"
   ]
  },
  {
   "cell_type": "markdown",
   "id": "849fccbd",
   "metadata": {},
   "source": [
    "## Part 1: Image Segmentation"
   ]
  },
  {
   "cell_type": "markdown",
   "id": "af09331e",
   "metadata": {},
   "source": [
    "**Image segmentation** is a task in computer vision that divides an image into different sections based on the objects or boundaries in the image. This is done by classifying each pixel to belong to a particular class (in most cases these classes correspond to the types of objects that could exist in the image). The result of image segmentation is an image mask that labels each pixel belonging to the same class with the same value.\n",
    "\n",
    "There are two types of segmentation tasks - **semantic segmentation** and **instance segmentation**. Semantic segmenation classifies all the pixels of an object category to the same class. For example, if the image has two cars in it, both of the cars will be assigned the same classification label. Instance segmentation differentiates between instances of the same object category in the image. For example, if the image has two cars in it, each car will be assigned a different classification label. In this project, we will be looking at semantic segmentation only.\n",
    "\n",
    "Run the cell below to visualize 3 sample images in the CamVid dataset and their corresponding masks that depict the segmented image to recognize cars."
   ]
  },
  {
   "cell_type": "code",
   "execution_count": null,
   "id": "86d2b957",
   "metadata": {},
   "outputs": [],
   "source": [
    "# Run the following cell and analyze the output\n",
    "vis_dataset = student_code.create_vis_dataset()\n",
    "vis_dataset.display()"
   ]
  },
  {
   "cell_type": "markdown",
   "id": "595ee0fc",
   "metadata": {},
   "source": [
    "### Sigmoid and Softmax \n",
    "<a href=\"https://web.stanford.edu/~nanbhas/blog/sigmoid-softmax/\">Reference link</a>"
   ]
  },
  {
   "cell_type": "markdown",
   "id": "271dbab6",
   "metadata": {},
   "source": [
    "When using segmentation to detect only one type of class ('car' in our example), the task can be thought of as binary classification of each pixel. For each pixel, we want to know the probability of it belonging to 'car' (yellow pixels) or it's corresponding negative class, 'not car' (purple pixels). The output value that is generated by a segmentation model may not reflect the answer to this question. For example, a pixel belonging to a car and located at (x1, y1) may output the value 800 and another pixel belong to a car and located at (x2,y2) may output the value 20. These values make it difficult to compute a suitable \"loss\" for the model, i.e., it cannot correctly quantify how far is it from the correct answer. So, the output value is passed through a `sigmoid` function which converts values to lie between 0 and 1. \n",
    "\n",
    "<img src=\"https://miro.medium.com/max/582/1*Xu7B5y9gp0iL5ooBj7LtWw.png\" width=500 />\n",
    "\n",
    "$$\n",
    "\\sigma(z) = \\frac{e^z}{1 + e^z} = \\frac{1}{1 + e^{-z}}\n",
    "$$\n",
    "\n",
    "Note that the sigmoid function maps a real number to a value between 0 and 1, i.e., $\\sigma: \\mathbb{R}\\to [0,1]$ Now a value between 0 and 1 can be interpreted as the probability of the pixel belong to the class. Each pixel can be classified as 'car' if its probability value is more then 0.5 and 'not car' if its probability value is less than 0.5."
   ]
  },
  {
   "cell_type": "markdown",
   "id": "e7a1ff5b",
   "metadata": {},
   "source": [
    "### TO-DO 1\n",
    "Implement the `sigmoid` function in `student_code.py`. The function should be able to handle an array of real numbers. The output will be the sigmoid function applied to each of the inputs individually.  "
   ]
  },
  {
   "cell_type": "code",
   "execution_count": null,
   "id": "6a947d1d",
   "metadata": {},
   "outputs": [],
   "source": [
    "x = torch.randn(5)\n",
    "y = student_code.sigmoid(x)\n",
    "print(f\"x = {x}\")\n",
    "print(f\"y = {y}\")"
   ]
  },
  {
   "cell_type": "code",
   "execution_count": null,
   "id": "acddcc2d",
   "metadata": {},
   "outputs": [],
   "source": [
    "from proj2_unit_tests.test_softmax_sigmoid import test_sigmoid\n",
    "print(\"test_sigmoid: \", utils.verify(test_sigmoid))"
   ]
  },
  {
   "cell_type": "markdown",
   "id": "b7270814",
   "metadata": {},
   "source": [
    "When using segmentation to detect multiple types of classes (for example in the image given below, some of the classes are car, pedestrian, tree, road), the task is multiclass classification of each pixel. In this we want our output values to be probabilities of the pixel belonging to each of the possible classes. \n",
    "\n",
    "<img src=\"https://media.springernature.com/original/springer-static/image/chp%3A10.1007%2F978-3-319-46475-6_7/MediaObjects/419974_1_En_7_Fig1_HTML.gif\" />\n",
    "\n",
    "The output values are passed through a `softmax` function to get probability values that lie between 0 and 1. Note that for multiclass classification, the model will output an array of `C` values, where `C` is the number of classes, i.e., $S:\\mathbf{R}^C \\to {[0,1]}^C$. The `softmax` function maps each $i^{th}$value in this array to a probability value using the following formula:\n",
    "$$\n",
    "S(\\mathbf{z})_i = \\frac{e^{\\mathbf{z}_i}}{\\sum_{j=1}^C e^{\\mathbf{z}_j}} = \\frac{e^{\\mathbf{z}_i}}{ e^{\\mathbf{z}_1} + ... + e^{\\mathbf{z}_j} + ... + e^{\\mathbf{z}_C}}\n",
    "$$\n",
    "Observe that the sum of the values of the softmax equals 1."
   ]
  },
  {
   "cell_type": "markdown",
   "id": "82e9d2b9",
   "metadata": {},
   "source": [
    "### TO-DO 2\n",
    "Implement the `softmax` function in `student_code.py`. The example given in the cell below corresponds to the case where there are 5 classes (`C=5`)."
   ]
  },
  {
   "cell_type": "code",
   "execution_count": null,
   "id": "8131fb56",
   "metadata": {},
   "outputs": [],
   "source": [
    "x = torch.randn(5)\n",
    "y = student_code.softmax(x)\n",
    "print(f\"x = {x}\")\n",
    "print(f\"y = {y}\")\n",
    "print(f\"sum(y) = {torch.sum(y)}\")"
   ]
  },
  {
   "cell_type": "code",
   "execution_count": null,
   "id": "fd03e76b",
   "metadata": {},
   "outputs": [],
   "source": [
    "from proj2_unit_tests.test_softmax_sigmoid import test_softmax\n",
    "print(\"test_softmax: \", utils.verify(test_softmax))"
   ]
  },
  {
   "cell_type": "markdown",
   "id": "6f160c14",
   "metadata": {},
   "source": [
    "Back to the car segmentation task, the mask for the image is created from the pixels classfied as 'car' or 'not car' after passing through the `sigmoid` function. You now have to apply this mask to the original image to get the final image segmentation.\n",
    "\n",
    "### TO-DO 3\n",
    "Implement the function `apply_mask_to_image` in `student_code.py`. \n",
    "\n",
    "*Note: You may get a warning that states `\"Clipping input data to the valid range for imshow with RGB data ([0..1] for floats or [0..255] for integers).\"` This is expected.*"
   ]
  },
  {
   "cell_type": "code",
   "execution_count": null,
   "id": "5fb5fc6b",
   "metadata": {},
   "outputs": [],
   "source": [
    "from proj2_unit_tests.test_apply_mask import test_final_seg_range,test_final_seg_values\n",
    "\n",
    "# Reads images from ./data/Camvid\n",
    "x_test_dir = \"./data/CamVid/test/\"\n",
    "y_test_dir = \"./data/CamVid/testannot/\"\n",
    "dataset = utils.Dataset(x_test_dir, y_test_dir, classes=['car'])\n",
    "\n",
    "# Let's look at the first (image,mask) in the dataset only\n",
    "image, mask = dataset[0]\n",
    "\n",
    "final_seg = student_code.apply_mask_to_image(image, mask)\n",
    "\n",
    "# Unit Tests\n",
    "print(\"test_final_seg_range: \", utils.verify(test_final_seg_range))\n",
    "print(\"test_final_seg_values: \", utils.verify(test_final_seg_values))\n",
    "\n",
    "\n",
    "# Visualize\n",
    "utils.visualize(\n",
    "    image=image, \n",
    "    cars_mask=mask.squeeze(),\n",
    "    final_seg=final_seg,\n",
    ")"
   ]
  },
  {
   "cell_type": "markdown",
   "id": "ad852844",
   "metadata": {},
   "source": [
    "## Part 2: Architecture of an image segmentation model"
   ]
  },
  {
   "cell_type": "markdown",
   "id": "1dff0105",
   "metadata": {},
   "source": [
    "### 2.1 Understanding FCN and \"backbones\"\n",
    "\n",
    "Common architectures used for image segmentation are [Fully Convolutional Networks (FCNs)](https://arxiv.org/pdf/1411.4038.pdf).\n",
    "\n",
    "#### Fully Convolutional Networks (FCNs)\n",
    "**What is an FCN?** An example FCN from the [original paper](https://arxiv.org/pdf/1411.4038.pdf) is shown in the diagram below: \n",
    "<img src=\"https://paperswithcode.com/media/methods/new_alex-model.jpg\" width=\"500\"/>\n",
    "\n",
    "\n",
    "FCN is a convolutional neural network (CNN) that employs solely locally connected layers such as convolutional layers, pooling layers and upsampling layers. The convolutional layers compute a nonlinear filter to perform convolutions on the data given a kernel and stride.  The kernel repeatedly slides over the input image, performing convolutions of its data with the computed filter. The stride defines the number of pixels the filter moves for each convolution. The result is what we call a feature map. The pooling layers are used to reduce the dimensions of the feature maps. The upsampling layers are used to transform the feature maps into an output of a larger size.\n",
    "\n",
    "Please see [this article](https://towardsdatascience.com/simple-introduction-to-convolutional-neural-networks-cdf8d3077bac)  which includes the picture below to better understand how convolutional layers work.\n",
    "\n",
    "<img src=\"https://miro.medium.com/max/4800/1*p-_47puSuVNmRJnOXYPQCg.png\" width=500/>\n",
    "\n",
    "An FCN naturally operates on an input of any size, and produces an output of corresponding (possibly resampled) spatial dimensions.\n",
    "\n",
    "*Please read through the previously linked FCN paper for more details on this type of deep learning network.*\n",
    "\n",
    "#### Backbones\n",
    "**Now, what is a backbone?** A backbone is an architectural element which defines how the convolutional layers in the encoder of the image segmentation model are arranged and how the convolutional layers in the decoder network should be built. \n",
    "\n",
    "A FCN contains one backbone, which is often a convolutional neural network (CNN) like VGG and ResNet.\n",
    "\n",
    "<!-- <img src=\"https://www.researchgate.net/publication/343170165/figure/fig2/AS:916634155876355@1595554021892/Framework-of-FCN-architecture-17-Resnet-101-as-backbone-for-top-view-person.jpg\" width=800 /> -->\n",
    "\n",
    "*__In this project, the FCN that we will be using is a [Feature Pyramid Network (FPN)](https://arxiv.org/pdf/1612.03144v2.pdf).__*\n",
    "\n",
    "*__And, the backbones that we will be demonstrating within the FPN are [**VGG-19**](https://arxiv.org/abs/1409.1556) and [**ResNet-50**](https://arxiv.org/abs/1512.03385).__* \n",
    "\n",
    "Here is a generalized diagram displaying what an FPN looking like with a backbone:\n",
    "\n",
    "<img src=\"https://miro.medium.com/max/940/0*v_KWTZcaAw-DRxmv.png\" width=700 />\n",
    "\n",
    "The *encoder-decoder* structure is incorporated to efficiently learn to make dense predictions for per-pixel tasks like semantic segmentation. In this structure, the chosen backbone is used as the encoder, and the FPN has its own decoder that updates to correspond to the particular backbone being used. \n",
    "\n",
    "- The term _\"encode\"_ means \"to convert information into a particular form.\" The encoder's job in a network is to take in the input, analyze its features, and encode the information from the input's most significant features into a smaller and compact representation.\n",
    "\n",
    "- The term _\"decode\"_ means \"to convert (a coded message) into intelligible language.\" Thus, the decoder's job is to make sense of the smaller, compact representation of the significant features from the encoder and convert it into an output that is more understandable, that output in this case being the segmentation mask representation of these significant features.\n",
    "\n",
    "***In terms of image segmentation, the intuition behind FPN is to encode the image passing it through a CNN as it gets downsampled and then decode it back or upsample it to obtain the segmentation mask.***"
   ]
  },
  {
   "cell_type": "markdown",
   "id": "6608e4a0",
   "metadata": {},
   "source": [
    "### 2.2 VGG-19\n",
    "Let's look at the architecture of the VGG-19 backbone first.\n",
    "\n",
    "The architecture of VGG-19 as shown in the diagram below:\n",
    "\n",
    "<img src=\"https://www.researchgate.net/profile/Clifford-Yang/publication/325137356/figure/fig2/AS:670371271413777@1536840374533/llustration-of-the-network-architecture-of-VGG-19-model-conv-means-convolution-FC-means.jpg\" width=500/>\n",
    "\n",
    "\n",
    "__What does the FPN+VGG-19 network look like?__\n",
    "\n",
    "Well, we can get a more detailed summary of the FPN+VGG-19 model after loading the VGG-19 backbone into the FPN structure. To do , we will use the `segmentation_models_pytorch` package for image segmentation. Please see the [GitHub](https://github.com/qubvel/segmentation_models.pytorch) and the [Read The Docs Project Page](https://smp.readthedocs.io/en/latest/) for this package for more documnetation info. \n",
    "\n",
    "Run the following cell to load the VGG-19 backbone into the FPN structure. Notice that the activation function that we will use for this is `sigmoid` because we are doing single-class image segmentation. After our network is successfully loaded, we will then load in our pre-trained weights from the `models/` directory into the netwwork. After the network has defined weights, it is often referred to as a **model**. So, from this point forward, we will refer to the all laoded FCN+backbones as models."
   ]
  },
  {
   "cell_type": "code",
   "execution_count": null,
   "id": "4ad3e930",
   "metadata": {},
   "outputs": [],
   "source": [
    "# create segmentation model with pretrained vgg-19\n",
    "vgg19_model = smp.FPN(\n",
    "    encoder_name='vgg19', \n",
    "    classes=1, \n",
    "    activation='sigmoid',\n",
    ")\n",
    "vgg19_model.load_state_dict(torch.load('./models/vgg19_best_model_weights.pt', map_location=torch.device('cpu')))"
   ]
  },
  {
   "cell_type": "markdown",
   "id": "18df7f80",
   "metadata": {},
   "source": [
    "Now that we have our FPN+VGG-19 loaded, let's print out a summary of the overall model's architecture by running the cell below."
   ]
  },
  {
   "cell_type": "code",
   "execution_count": null,
   "id": "827f01d3",
   "metadata": {},
   "outputs": [],
   "source": [
    "print(student_code.print_model_summary(vgg19_model))"
   ]
  },
  {
   "cell_type": "markdown",
   "id": "86ce0b39",
   "metadata": {},
   "source": [
    "__The output printed above is the network summary of the FPN+VGG-19, including all convolutional layers, activation functions, segmentation blocks, etc. used in the encoder and decoder sections of the network.__\n",
    "\n",
    "____________\n",
    "\n",
    "###  Question 1:\n",
    "The output shapes of each layer in the model's summary above are in the form of: \n",
    "- [*1, number of feature maps, image height (up and down), image width (across)*].\n",
    "\n",
    "What do you notice about the image height and image width as you go through the _encoder_ of the FPN+VGG-19? \n",
    "What about the _decoder_ of the FPN+VGG-19? "
   ]
  },
  {
   "cell_type": "markdown",
   "id": "0a27ab91",
   "metadata": {},
   "source": [
    "### Answer:\n",
    "\n",
    "(please write your answer here and remember to put your answer into the report)\n",
    "\n",
    "\n",
    "\n",
    "________________________________"
   ]
  },
  {
   "cell_type": "markdown",
   "id": "ccea7def",
   "metadata": {},
   "source": [
    "Next, we want to run our test data through our FPN+VGG-19 model.\n",
    "\n",
    "To do this, **the data must be preprocessed in a way specific to the backbone VGG-19.** This can be done by hand, but the `albumentations` Python library for image augmentation makes this very quick and simple to do. Please see the [GitHub](https://github.com/albumentations-team/albumentations) and the [official webiste](https://albumentations.ai/) for this package for more documnetation info.\n",
    "\n",
    "Run the following cell to get the data pre-processing function specific to the VGG-19 backbone and apply that function to our test dataset."
   ]
  },
  {
   "cell_type": "code",
   "execution_count": null,
   "id": "0e7c2226",
   "metadata": {},
   "outputs": [],
   "source": [
    "# gets the correct preprocessing function for the 'vgg19' network\n",
    "preprocessing_fn = smp.encoders.get_preprocessing_fn('vgg19')\n",
    "\n",
    "# apply the preprocessing function `preprocessing_fn` and image augmentations to test dataset\n",
    "test_dataset = utils.Dataset(\n",
    "    x_test_dir, \n",
    "    y_test_dir, \n",
    "    augmentation=utils.get_validation_augmentation(), \n",
    "    preprocessing=utils.get_preprocessing(preprocessing_fn),\n",
    "    classes=['car'],\n",
    ")\n",
    "\n",
    "# gather data into DataLoader for easy retrieval during testing\n",
    "test_dataloader = torch.utils.data.DataLoader(test_dataset)"
   ]
  },
  {
   "cell_type": "markdown",
   "id": "b5cc3a6c",
   "metadata": {},
   "source": [
    "Now that our test dataset has been preprocessed to run through the VGG-19 backbone of the FPN+VGG-19 model, we can now see how well the pre-trained model performs!\n",
    "\n",
    "Run the following cell to print out the predicted images segmentation mask for the images in out test dataset:"
   ]
  },
  {
   "cell_type": "code",
   "execution_count": null,
   "id": "c1fc1877",
   "metadata": {},
   "outputs": [],
   "source": [
    "for i in range(len(test_dataset)):\n",
    "    image, true_mask = test_dataset[i]\n",
    "    \n",
    "    x_tensor = torch.from_numpy(image).to('cpu').unsqueeze(0)\n",
    "    pred_mask = vgg19_model.predict(x_tensor)\n",
    "    pred_mask = (pred_mask.squeeze().cpu().numpy().round())\n",
    "\n",
    "    utils.visualize(\n",
    "        image=dataset[i][0],\n",
    "        true_mask=true_mask.squeeze(), \n",
    "        pred_mask=pred_mask\n",
    "    )"
   ]
  },
  {
   "cell_type": "markdown",
   "id": "78684134",
   "metadata": {},
   "source": [
    "### 2.3 ResNet-50\n",
    "\n",
    "**Now, let's look into the ResNet-50 backbone.**\n",
    "\n",
    "The architecture of ResNet50 has 50 layers in total, organized into 4 large stages as shown in [this diagram](https://cdn-5f733ed3c1ac190fbc56ef88.closte.com/wp-content/uploads/2019/07/ResNet50_architecture-1.png).\n",
    "\n",
    "The ResNet-50 is composed of 4 different sections (each called a \"layer\"), named `layer1`, `layer2`, `layer3`, `layer4`. Each layer is composed of a repeated number of blocks, and each such block is named a \"BottleNeck\". Specifically, `layer1` has 3 Bottlenecks, `layer2` has 4 Bottlenecks, `layer3` has 6 Bottlenecks, and `layer4` has 3 Bottlenecks. In all, ResNet-50 has 16 Bottlenecks, which accounts for 48 of the conv layers.\n",
    "\n",
    "__What does the FPN+ResNet-50 network look like?__\n",
    "\n",
    "### **TO-DO 4**:\n",
    "Implement the function `load_FPN_resnet50()` in `student_code.py` and run the following cell to see a network summary of the FPN+ResNet-50 network."
   ]
  },
  {
   "cell_type": "code",
   "execution_count": null,
   "id": "bd8e0d73",
   "metadata": {},
   "outputs": [],
   "source": [
    "resnet50_model = student_code.load_FPN_resnet50()\n",
    "\n",
    "print(student_code.print_model_summary(resnet50_model))"
   ]
  },
  {
   "cell_type": "markdown",
   "id": "b4df3678",
   "metadata": {},
   "source": [
    "_______\n",
    "### Question 2:\n",
    "\n",
    "What do you notice about the size of the FPN+ResNet-50 network/model in comparison with the FPN+VGG-19 network/model? What are other major differences that you notice between the two model architectures? (List at least 2.)\n",
    "\n",
    "Now, make a prediction on which model you think will perform better and explain why?"
   ]
  },
  {
   "cell_type": "markdown",
   "id": "07840f40",
   "metadata": {},
   "source": [
    "### Answer:\n",
    "\n",
    "(please write your answer here and remember to put your answer into the report)\n",
    "\n",
    "\n",
    "\n",
    "________________________________"
   ]
  },
  {
   "cell_type": "markdown",
   "id": "123ec3fc",
   "metadata": {},
   "source": [
    "Now, we will pre-process the test data to work with the ResNet-50 backbone specifically using the same steps from `Section 2.2: VGG-19`. And, visualize the prediction results!"
   ]
  },
  {
   "cell_type": "code",
   "execution_count": null,
   "id": "d49421d2",
   "metadata": {},
   "outputs": [],
   "source": [
    "# gets the correct preprocessing function for the 'vgg19' network\n",
    "preprocessing_fn = smp.encoders.get_preprocessing_fn('resnet50')\n",
    "\n",
    "# apply the preprocessing function `preprocessing_fn` and image augmentations to test dataset\n",
    "test_dataset = utils.Dataset(\n",
    "    x_test_dir, \n",
    "    y_test_dir, \n",
    "    augmentation=utils.get_validation_augmentation(), \n",
    "    preprocessing=utils.get_preprocessing(preprocessing_fn),\n",
    "    classes=['car'],\n",
    ")\n",
    "\n",
    "# gather data into DataLoader for easy retrieval during testing\n",
    "test_dataloader = torch.utils.data.DataLoader(test_dataset)\n",
    "\n",
    "# Visualize ResNet-50 predictions\n",
    "for i in range(len(test_dataset)):\n",
    "    image, true_mask = test_dataset[i]\n",
    "\n",
    "    x_tensor = torch.from_numpy(image).to('cpu').unsqueeze(0)\n",
    "    pred_mask = resnet50_model.predict(x_tensor)\n",
    "    pred_mask = (pred_mask.squeeze().cpu().numpy().round())\n",
    "\n",
    "    utils.visualize(\n",
    "        image=dataset[i][0],\n",
    "        true_mask=true_mask.squeeze(), \n",
    "        pred_mask=pred_mask\n",
    "    )"
   ]
  },
  {
   "cell_type": "markdown",
   "id": "5f3ddde6",
   "metadata": {},
   "source": [
    "### 2.4: Insight into feature maps\n",
    "Now that we have visually seen how well both the FPN+VGG-19 and FPN+ResNet-50 predict, let's get a closer look at the learning process of both models by visualizing the feature maps that the models create at various convolutional layers throughout the networks.\n",
    "\n",
    "In this section, we will be looking into the feature maps of the ResNet-50 network that you created in `Section 2.3`.\n",
    "\n",
    "**For this section, you do not need to focus on understanding the code. Instead, focus on understanding the output of the code, i.e. the feature maps.** "
   ]
  },
  {
   "cell_type": "code",
   "execution_count": null,
   "id": "79ed6606",
   "metadata": {},
   "outputs": [],
   "source": [
    "feature_maps = {}\n",
    "def get_feature_maps(name):\n",
    "    def hook(model, input, output):\n",
    "        feature_maps[name] = output.detach()\n",
    "    return hook\n",
    "image, _ = test_dataset[0]\n",
    "x_tensor = torch.from_numpy(image).to(\"cpu\").unsqueeze(0) \n",
    "\n",
    "# Run the following cell and analyze the output\n",
    "resnet50_model.encoder.conv1.register_forward_hook(get_feature_maps('conv1'))   \n",
    "output = resnet50_model(x_tensor)\n",
    "\n",
    "print(\"These are 64 of the feature maps (FMs) that the FPN+ResNet50 model creates in the first layer of its encoder:\")\n",
    "tmp = feature_maps['conv1']\n",
    "plt.figure(figsize=(16, 16))\n",
    "for i in range(tmp.shape[1]):\n",
    "    n = tmp.shape[1]\n",
    "    img = tmp[:,i,:,:]\n",
    "    plt.subplot(8, 8, i + 1)\n",
    "    plt.xticks([])\n",
    "    plt.yticks([])\n",
    "    plt.title(\"FM #{}\".format(i))\n",
    "    plt.imshow(img.squeeze())"
   ]
  },
  {
   "cell_type": "code",
   "execution_count": null,
   "id": "2bf0356f",
   "metadata": {},
   "outputs": [],
   "source": [
    "# Run the following cell and analyze the output\n",
    "resnet50_model.encoder.layer1[2].conv2.register_forward_hook(get_feature_maps('conv2'))  \n",
    "output = resnet50_model(x_tensor)\n",
    "\n",
    "print(\"These are 64 of the feature maps (FMs) that the FPN-ResNet50 model creates in the last layer of its encoder:\")\n",
    "tmp = feature_maps['conv2']\n",
    "plt.figure(figsize=(16, 16))\n",
    "for i in range(tmp.shape[1]):\n",
    "    img = tmp[:,i,:,:]\n",
    "    plt.subplot(8, 8, i + 1)\n",
    "    plt.xticks([])\n",
    "    plt.yticks([])\n",
    "    plt.title(\"FM #{}\".format(i))\n",
    "    plt.imshow(img.squeeze())"
   ]
  },
  {
   "cell_type": "code",
   "execution_count": null,
   "id": "19cf8c5c",
   "metadata": {},
   "outputs": [],
   "source": [
    "# Run the following cell and analyze the output\n",
    "resnet50_model.decoder.seg_blocks[3].block[0].block[0].register_forward_hook(get_feature_maps('seg_block3'))\n",
    "    \n",
    "output = resnet50_model(x_tensor)\n",
    "print(\"These are 64 of the feature maps (FMs) that the FPN-ResNet50 model creates in the last layer of its decoder:\")\n",
    "tmp = feature_maps['seg_block3']\n",
    "plt.figure(figsize=(16, 16))\n",
    "for i in range(64):\n",
    "    img = tmp[:,i,:,:]\n",
    "    plt.subplot(8, 8, i + 1)\n",
    "    plt.xticks([])\n",
    "    plt.yticks([])\n",
    "    plt.title(\"FM #{}\".format(i))\n",
    "    plt.imshow(img.squeeze())"
   ]
  },
  {
   "cell_type": "markdown",
   "id": "3caa38aa",
   "metadata": {},
   "source": [
    "**The results above show what feature maps the FPN-ResNet50 model created to help it learn the dataset. Please make some notes on the major differences between the feature maps that the model produces above in the first layer of its encoder, the last layer of its encoder, and the last layer of its decoder. There will be critical thinking questions on the report about this.**"
   ]
  },
  {
   "cell_type": "markdown",
   "id": "39851586",
   "metadata": {},
   "source": [
    "## Part 3: Compare Model Performance"
   ]
  },
  {
   "cell_type": "markdown",
   "id": "3171e27b",
   "metadata": {},
   "source": [
    "To verify the predicted result, we use the Intersection over Union (IoU) method to measure the accuracy. Basically, we found out the overlapping area for two segments and divided by the union area of two segments. The funtion of Intersection over Union is IoU(A, B) = | A ∩ B | / | A U B |. As the result becomes closer to 1, the prediction segment and the ground truth segment are more similar. Here is one of the paper that you could read to gain more information about the IoU called [Generalized Intersection over Union](https://openaccess.thecvf.com/content_CVPR_2019/papers/Rezatofighi_Generalized_Intersection_Over_Union_A_Metric_and_a_Loss_for_CVPR_2019_paper.pdf)"
   ]
  },
  {
   "cell_type": "markdown",
   "id": "50c1c389",
   "metadata": {},
   "source": [
    "_______\n",
    "### Question 3:\n",
    "\n",
    "Given the true mask and 2 different prediction results (Pred Mask1, Pred Mask2), which prediction result would have higher IoU score? Please Explain the reason. (If you can't load the picture in the notebook, you can view the picture in the `proj2_code` folder named `iou_question.png`.)\n",
    "\n",
    "<img src=\"./iou_question.png\" width=900/>"
   ]
  },
  {
   "cell_type": "markdown",
   "id": "44e7224f",
   "metadata": {},
   "source": [
    "### Answer:\n",
    "\n",
    "(please write your answer here and remember to put your answer into the report)\n",
    "\n",
    "\n",
    "\n",
    "________________________________"
   ]
  },
  {
   "cell_type": "markdown",
   "id": "4d920162",
   "metadata": {},
   "source": [
    "### TODO 5: Implement the IoU\n",
    "Implement the function `IoU()` in `student_code.py`."
   ]
  },
  {
   "cell_type": "code",
   "execution_count": null,
   "id": "691b8f42",
   "metadata": {
    "scrolled": true
   },
   "outputs": [],
   "source": [
    "# Test your IoU implementation\n",
    "from proj2_unit_tests.test_iou import test_IoU1, test_IoU2\n",
    "\n",
    "print(\"test_IoU1(): \", utils.verify(test_IoU1))\n",
    "print(\"test_IoU2(): \", utils.verify(test_IoU2))"
   ]
  },
  {
   "cell_type": "markdown",
   "id": "9c22ba62",
   "metadata": {},
   "source": [
    "After we have the correct IoU function, we could now use this to test out the performance of our models\n",
    "\n",
    "### TODO 6: Apply IoU function\n",
    "1) Implement the function `applyIoU()` in `student_code.py`.\n",
    "\n",
    "2) Find out the IoU score for FPN-ResNet50 and FPN-VGG19\n",
    "\n",
    "3) Record the IoU score for these 2 models into the report."
   ]
  },
  {
   "cell_type": "code",
   "execution_count": null,
   "id": "a8abafc3",
   "metadata": {},
   "outputs": [],
   "source": [
    "vgg_iou = student_code.applyIoU(vgg19_model, test_dataset)\n",
    "resnet_iou = student_code.applyIoU(resnet50_model, test_dataset)\n",
    "print('vgg19 IoU score is: ',vgg_iou)\n",
    "print('ResNet50 IoU score is: ', resnet_iou)"
   ]
  },
  {
   "cell_type": "markdown",
   "id": "cb6c1b30",
   "metadata": {},
   "source": [
    "## Extra Credit: Pyramid Scene Parsing Network(PSPNet)\n",
    "### (Optional for 4476 students, Required for 6476 students)"
   ]
  },
  {
   "cell_type": "markdown",
   "id": "ed34802b",
   "metadata": {},
   "source": [
    "We'll not be implementing PSPNet for this project but instead, you will need to compare the performance between PSP and FCN in this notebook and answer correspoinding questions in the report.\n",
    "\n",
    "If you want to Learn more about PSPNet, please check out this paper: https://arxiv.org/abs/1612.01105"
   ]
  },
  {
   "cell_type": "markdown",
   "id": "d3ff1c8d",
   "metadata": {},
   "source": [
    "### EC Part 1: Pyramid Pooling Module"
   ]
  },
  {
   "cell_type": "markdown",
   "id": "a0330f3a",
   "metadata": {},
   "source": [
    "After feeding an image through the CNN backbone and obtaining a feature map, PSPNet aggregates context over different portions of the image with the PPM.\n",
    "\n",
    "The PPM splits the $H \\times W$ feature map into KxK grids. Here, 1x1, 2x2, 3x3,and 6x6 grids are formed, and features are average-pooled within each grid cell. Afterwards, the 1x1, 2x2, 3x3, and 6x6 grids are upsampled back to the original $H \\times W$ feature map resolution, and are stacked together along the channel dimension. These grids are visualized below (center):\n",
    "\n",
    "<img src=\"https://user-images.githubusercontent.com/16724970/114436422-4b414a80-9b93-11eb-8f02-8e7506b5f9a1.jpg\" width=\"900\">"
   ]
  },
  {
   "cell_type": "markdown",
   "id": "15f520ca",
   "metadata": {},
   "source": [
    "### EC Part 2: Compare Performance between PSP & FCN"
   ]
  },
  {
   "cell_type": "markdown",
   "id": "ac968925",
   "metadata": {},
   "source": [
    "### **TODO: EC**\n",
    "\n",
    "In this section, you will need to compare the performance of the PSPNet architecture encoded with Resnet50 and the FCN architecture encoded with Resnet50. We keep the encoder to be the same so that we could see the performance difference between these two architecture. Recall that: *__in this project, the FCN that we will be using is a Feature Pyramid Network (FPN)__*. Thus, you have already implemented the FCN with 'resnet50' as the encoder in the early section, Section 2.3, you can just use the function here. \n",
    "\n",
    "Implement the `compare_psp_fpn` function in `student_code.py`. The step is below.\n",
    "\n",
    "1) Load the FPN-ResNet50 from Part 2.3\n",
    "\n",
    "2) Create an PSPNet using `segmentation_models_pytorch` with the encoder set as `resnet50` and the same activation function\n",
    "\n",
    "3) Load the pre-trained weights in `models` folder\n",
    "\n",
    "4) Find out the IoU score for FPN-ResNet50 and PSPNet-ResNet50"
   ]
  },
  {
   "cell_type": "code",
   "execution_count": null,
   "id": "18ea5a37",
   "metadata": {},
   "outputs": [],
   "source": [
    "psp_iou, fpn_iou = student_code.compare_psp_fpn(test_dataset)\n",
    "print('PSPNet-ResNet50 IoU score is: ',psp_iou)\n",
    "print('FPN-ResNet50 IoU score is: ', fpn_iou)"
   ]
  },
  {
   "cell_type": "markdown",
   "id": "d1376206",
   "metadata": {},
   "source": [
    "# Code Testing\n",
    "\n",
    "We have provided a set of tests for you to evaluate your implementation. We have included tests inside `proj2.ipynb` so you can check your progress as you implement each section. When you're done with the entire project, you can call additional tests by running `pytest proj2_unit_tests` inside the `proj2_code` directory of the project. _Your grade on the coding portion of the project will be further evaluated with a set of tests not provided to you._\n",
    "\n",
    "# Writeup\n",
    "\n",
    "For this project (and all other projects), you must do a project report using the template slides provided to you at \"proj2_template.pptx\". Do <u>not</u> change the order of the slides or remove any slides, as this will affect the grading process on Gradescope and you will be deducted points. In the report you will describe your algorithm and any decisions you made to write your algorithm a particular way. Then you will show and discuss the results of your algorithm. The template slides provide guidance for what you should include in your report. A good writeup doesn't just show results--it tries to draw some conclusions from the experiments. You must convert the slide deck into a PDF with the name `<your_gt_username.pdf>` for your submission.\n",
    "\n",
    "If you choose to do anything extra, add slides _after the slides given in the template deck_ to describe your implementation, results, and analysis. Adding slides in between the report template will cause issues with Gradescope, and you will be deducted points. You will not receive full credit for your extra credit implementations if they are not described adequately in your writeup. \n",
    "\n",
    "# Please check your assignment completion\n",
    "\n",
    "### Required for all\n",
    "* `sigmoid()`\n",
    "* `softmax()`\n",
    "* `apply_mask_to_image()`\n",
    "* `load_FPN_resnet50()`\n",
    "* `IoU()`\n",
    "* `applyIoU()`\n",
    "\n",
    "\n",
    "### Required for 6476 students, Optional for 4476 students\n",
    "* `compare_psp_fpn()`\n",
    "\n",
    "\n",
    "### Report\n",
    "* Answer all the questions on the report correctly\n",
    "\n",
    "\n",
    "### Note\n",
    "* Lose 5 points for every time you do not follow the instructions for the hand-in format.\n",
    "\n",
    "\n",
    "# Submission\n",
    "\n",
    "This is very important as you will lose 5 points for every time you do not follow the instructions. \n",
    "\n",
    "Do <u>not</u> install any additional packages inside the conda environment. The TAs will use the same environment as defined in the config files we provide you, so anything that's not in there by default will probably cause your code to break during grading. Do <u>not</u> use absolute paths in your code or your code will break. Use relative paths like the starter code already does. Failure to follow any of these instructions will lead to point deductions. \n",
    "\n",
    "Create the zip file using `python zip_submission.py --gt_username <your_gt_username>` (it will zip up the appropriate directories/files for you!) and hand it through Gradescope. Remember to submit your report as a PDF to Gradescope as well.\n",
    "\n",
    "Because we are not testing the implementation of the extra credit the coding portion, both 4476 and 6476 students should upload your python file to `proj2-code` assignment and report to `proj2-report` assignment in GradeScope.\n",
    "\n",
    "# Credit\n",
    "- Assignment developed by Kritika Gupta, Tongshu Yang, and Heyley Gatewood.<br/>"
   ]
  }
 ],
 "metadata": {
  "kernelspec": {
   "display_name": "Python 3 (ipykernel)",
   "language": "python",
   "name": "python3"
  },
  "language_info": {
   "codemirror_mode": {
    "name": "ipython",
    "version": 3
   },
   "file_extension": ".py",
   "mimetype": "text/x-python",
   "name": "python",
   "nbconvert_exporter": "python",
   "pygments_lexer": "ipython3",
   "version": "3.8.11"
  }
 },
 "nbformat": 4,
 "nbformat_minor": 5
}
